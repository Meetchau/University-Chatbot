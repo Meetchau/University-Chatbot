{
  "nbformat": 4,
  "nbformat_minor": 0,
  "metadata": {
    "colab": {
      "provenance": [],
      "authorship_tag": "ABX9TyP2Nmyk1Ikb+g7LQ5Ou6ePT",
      "include_colab_link": true
    },
    "kernelspec": {
      "name": "python3",
      "display_name": "Python 3"
    },
    "language_info": {
      "name": "python"
    }
  },
  "cells": [
    {
      "cell_type": "markdown",
      "metadata": {
        "id": "view-in-github",
        "colab_type": "text"
      },
      "source": [
        "<a href=\"https://colab.research.google.com/github/Meetchau/University-Chatbot/blob/main/UniversityQA.ipynb\" target=\"_parent\"><img src=\"https://colab.research.google.com/assets/colab-badge.svg\" alt=\"Open In Colab\"/></a>"
      ]
    },
    {
      "cell_type": "code",
      "execution_count": null,
      "metadata": {
        "colab": {
          "base_uri": "https://localhost:8080/"
        },
        "id": "IEx2pIdpES3E",
        "outputId": "2b0c6919-7e9b-4a1d-f145-8dfba1d11557"
      },
      "outputs": [
        {
          "output_type": "stream",
          "name": "stdout",
          "text": [
            "Chatbot: Hi! How can I help you today?\n",
            "You: what are the courses offered in your college?\n",
            "Chatbot: Our university offers Information Technology, Computer Engineering, Mechanical Engineering, Chemical Engineering, Civil Engineering, and Electrical Engineering.\n",
            "You: who are you?\n",
            "Chatbot: I am your helper\n",
            "You: what is the college timing?\n",
            "Chatbot: College is open 8am-5pm Monday-Saturday!\n",
            "You: where can i get some more info\n",
            "Chatbot: You can contact at: NUMBER\n",
            "You: will the recuiter select my profile?\n",
            "Chatbot: Sorry, I didn't quite understand that. Could you ask again?\n"
          ]
        }
      ],
      "source": [
        "# These libraries are needed for the chatbot to work\n",
        "\n",
        "import random\n",
        "import re\n",
        "\n",
        "class Chatbot:\n",
        "    def __init__(self):\n",
        "        # As i am taking the rule based approach here i will have to define all the intents manually and as this is a small scale chatbot this approach is simpler and easier\n",
        "        self.intents = [\n",
        "            {\n",
        "                \"tag\": \"greeting\",\n",
        "                \"patterns\": [\n",
        "                    \"Hi\", \"How are you?\", \"Is anyone there?\", \"Hello\", \"Good day\", \"What's up\",\n",
        "                    \"how are ya\", \"heyy\", \"whatsup\", \"??? ??? ??\"\n",
        "                ],\n",
        "                \"responses\": [\n",
        "                    \"Hello!\", \"Good to see you again!\", \"Hi there, how can I help?\"\n",
        "                ]\n",
        "            },\n",
        "            {\n",
        "                \"tag\": \"goodbye\",\n",
        "                \"patterns\": [\n",
        "                    \"cya\", \"see you\", \"bye bye\", \"See you later\", \"Goodbye\", \"I am Leaving\",\n",
        "                    \"Bye\", \"Have a Good day\", \"talk to you later\", \"ttyl\", \"i got to go\", \"gtg\"\n",
        "                ],\n",
        "                \"responses\": [\n",
        "                    \"Sad to see you go :(\", \"Talk to you later\", \"Goodbye!\", \"Come back soon\"\n",
        "                ]\n",
        "            },\n",
        "            {\n",
        "                \"tag\": \"creator\",\n",
        "                \"patterns\": [\n",
        "                    \"what is the name of your developers\", \"who created you\", \"your developers\",\n",
        "                    \"you are made by\", \"who made you\", \"who designed you\"\n",
        "                ],\n",
        "                \"responses\": [\"College students\"]\n",
        "            },\n",
        "            {\n",
        "                \"tag\": \"name\",\n",
        "                \"patterns\": [\n",
        "                    \"name\", \"your name\", \"what are you called\", \"what is your name\", \"what should I call you\",\n",
        "                    \"whats your name?\", \"who are you\", \"what am i chatting to\", \"who am i talking to\"\n",
        "                ],\n",
        "                \"responses\": [\n",
        "                    \"You can call me Mind Reader.\", \"I'm Mind Reader\", \"I am a Chatbot.\", \"I am your helper\"\n",
        "                ]\n",
        "            },\n",
        "            {\n",
        "                \"tag\": \"hours\",\n",
        "                \"patterns\": [\n",
        "                    \"timing of college\", \"what is college timing\", \"working days\", \"when are you guys open\",\n",
        "                    \"what are your hours\", \"hours of operation\", \"when is the college open\", \"college timing\"\n",
        "                ],\n",
        "                \"responses\": [\"College is open 8am-5pm Monday-Saturday!\"]\n",
        "            },\n",
        "            {\n",
        "                \"tag\": \"number\",\n",
        "                \"patterns\": [\n",
        "                    \"more info\", \"contact info\", \"how to contact college\", \"college telephone number\",\n",
        "                    \"college number\", \"What is your contact no\", \"Contact number?\", \"how can i contact you\"\n",
        "                ],\n",
        "                \"responses\": [\"You can contact at: NUMBER\"]\n",
        "            },\n",
        "            {\n",
        "                \"tag\": \"course\",\n",
        "                \"patterns\": [\n",
        "                    \"list of courses\", \"what are the courses offered in your college?\", \"courses?\", \"branches?\",\n",
        "                    \"Information Technology\", \"Computer engineering\", \"Mechanical engineering\", \"Chemical engineering\"\n",
        "                ],\n",
        "                \"responses\": [\n",
        "                    \"Our university offers Information Technology, Computer Engineering, Mechanical Engineering, Chemical Engineering, Civil Engineering, and Electrical Engineering.\"\n",
        "                ]\n",
        "            },\n",
        "            {\n",
        "                \"tag\": \"fees\",\n",
        "                \"patterns\": [\n",
        "                    \"information about fee\", \"what is the fee of each semester\", \"fees\", \"What is the fees of hostel\",\n",
        "                    \"hostel fees\", \"fees for AC room\", \"fees for non-AC room\"\n",
        "                ],\n",
        "                \"responses\": [\n",
        "                    \"For Fee details visit <a target=\\\"_blank\\\" href=\\\"LINK\\\"> here</a>\"\n",
        "                ]\n",
        "            },\n",
        "            # I can more intents too ,if required\n",
        "        ]\n",
        "\n",
        "    def respond(self, user_input):\n",
        "        # I am simply converting all the letters to lower case to avoid case sensitivity errors\n",
        "        user_input = user_input.lower()\n",
        "\n",
        "        # This will check each intent to find patterns\n",
        "        for intent in self.intents:\n",
        "            for pattern in intent['patterns']:\n",
        "                # I am using re.escape to handle the special characters\n",
        "                if re.search(re.escape(pattern.lower()), user_input):\n",
        "                    # It will eturn a random response from the matched intent\n",
        "                    return random.choice(intent['responses'])\n",
        "\n",
        "        # If there are no matches found than it will simply let you know\n",
        "        return \"Sorry, I didn't quite understand that. Could you ask again?\"\n",
        "\n",
        "# Initialize the chatbot\n",
        "chatbot = Chatbot()\n",
        "\n",
        "# This is the opening line of the chatbot and from here on the chatbot will answer the questions\n",
        "print(\"Chatbot: Hi! How can I help you today?\")\n",
        "while True:\n",
        "    user_input = input(\"You: \")\n",
        "\n",
        "    if user_input.lower() in [\"exit\", \"quit\", \"bye\"]:\n",
        "        print(\"Chatbot: Goodbye! Have a great day!\")\n",
        "        break\n",
        "\n",
        "\n",
        "    response = chatbot.respond(user_input)\n",
        "    print(\"Chatbot:\", response)\n"
      ]
    },
    {
      "cell_type": "code",
      "source": [],
      "metadata": {
        "colab": {
          "base_uri": "https://localhost:8080/"
        },
        "id": "PGoyJiOBKS47",
        "outputId": "ec4a72e5-a929-470a-c3ab-b601a5982630"
      },
      "execution_count": 25,
      "outputs": [
        {
          "output_type": "stream",
          "name": "stdout",
          "text": [
            "Object `college` not found.\n"
          ]
        }
      ]
    }
  ]
}